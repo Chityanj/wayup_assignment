{
 "cells": [
  {
   "cell_type": "code",
   "execution_count": 8,
   "metadata": {},
   "outputs": [],
   "source": [
    "import csv\n",
    "filename = open('/home/chityanj/wayup/titanic.csv')\n",
    "file = csv.DictReader(filename)\n",
    "\n",
    "\n"
   ]
  },
  {
   "cell_type": "code",
   "execution_count": 9,
   "metadata": {},
   "outputs": [
    {
     "name": "stdout",
     "output_type": "stream",
     "text": [
      "[38.0, 26.0, 35.0, 27.0, 14.0, 4.0, 58.0, 55.0, 34.0, 15.0, 28.0, 38.0, 14.0, 3.0, 19.0, 49.0, 29.0, 21.0, 5.0, 38.0, 29.0, 17.0, 32.0, 0.83, 30.0, 29.0, 17.0, 33.0, 23.0, 23.0, 34.0, 21.0, 32.5, 12.0, 24.0, 29.0, 19.0, 22.0, 24.0, 27.0, 22.0, 16.0, 40.0, 9.0, 1.0, 1.0, 4.0, 45.0, 32.0, 19.0, 3.0, 44.0, 58.0, 18.0, 26.0, 16.0, 40.0, 35.0, 31.0, 27.0, 32.0, 16.0, 38.0, 19.0, 35.0, 5.0, 8.0, 24.0, 37.0, 29.0, 30.0, 35.0, 50.0, 3.0, 25.0, 58.0, 35.0, 25.0, 41.0, 63.0, 35.0, 19.0, 30.0, 42.0, 22.0, 26.0, 19.0, 50.0, 0.92, 17.0, 30.0, 24.0, 18.0, 26.0, 24.0, 31.0, 40.0, 30.0, 22.0, 36.0, 36.0, 31.0, 16.0, 41.0, 45.0, 2.0, 24.0, 24.0, 40.0, 3.0, 22.0, 60.0, 24.0, 25.0, 22.0, 42.0, 1.0, 35.0, 36.0, 17.0, 36.0, 21.0, 23.0, 24.0, 28.0, 39.0, 3.0, 33.0, 44.0, 34.0, 18.0, 28.0, 19.0, 32.0, 28.0, 42.0, 14.0, 24.0, 45.0, 28.0, 4.0, 13.0, 34.0, 5.0, 52.0, 49.0, 29.0, 50.0, 48.0, 0.75, 33.0, 23.0, 2.0, 63.0, 25.0, 35.0, 9.0, 54.0, 16.0, 33.0, 26.0, 29.0, 36.0, 54.0, 34.0, 36.0, 30.0, 44.0, 50.0, 2.0, 7.0, 30.0, 22.0, 36.0, 32.0, 19.0, 8.0, 17.0, 22.0, 22.0, 48.0, 39.0, 36.0, 32.0, 62.0, 53.0, 36.0, 34.0, 39.0, 32.0, 25.0, 39.0, 18.0, 60.0, 52.0, 49.0, 24.0, 35.0, 27.0, 22.0, 40.0, 24.0, 4.0, 42.0, 20.0, 21.0, 80.0, 32.0, 28.0, 24.0, 0.75, 48.0, 56.0, 23.0, 18.0, 50.0, 20.0, 40.0, 31.0, 18.0, 36.0, 27.0, 15.0, 31.0, 4.0, 18.0, 35.0, 45.0, 42.0, 22.0, 24.0, 48.0, 38.0, 27.0, 6.0, 27.0, 30.0, 29.0, 35.0, 21.0, 31.0, 30.0, 4.0, 6.0, 48.0, 0.67, 33.0, 20.0, 36.0, 51.0, 54.0, 5.0, 43.0, 13.0, 17.0, 18.0, 1.0, 49.0, 31.0, 31.0, 11.0, 0.42, 27.0, 33.0, 52.0, 27.0, 27.0, 1.0, 62.0, 15.0, 0.83, 39.0, 32.0, 30.0, 16.0, 18.0, 45.0, 51.0, 24.0, 48.0, 42.0, 27.0, 4.0, 47.0, 28.0, 15.0, 56.0, 25.0, 19.0, 26.0]\n"
     ]
    }
   ],
   "source": [
    "AvgAge = []\n",
    "for row in file:\n",
    "    if row['Survived'] == '1':\n",
    "        if row['Age'] != '':\n",
    "            AvgAge.append(float(row['Age']))\n",
    "print(AvgAge)\n"
   ]
  },
  {
   "cell_type": "markdown",
   "metadata": {},
   "source": [
    "## Above logic is simple i checked for if the person survived means the data points to 1 then i will check his age if it is not empty then i will append it to the list converting it into float from string"
   ]
  },
  {
   "cell_type": "markdown",
   "metadata": {},
   "source": [
    "## Now Average of all the survivors excluding those whose ages are not mentioned in the data"
   ]
  },
  {
   "cell_type": "code",
   "execution_count": 10,
   "metadata": {},
   "outputs": [
    {
     "name": "stdout",
     "output_type": "stream",
     "text": [
      "28.343689655172415\n"
     ]
    }
   ],
   "source": [
    "print(sum(AvgAge)/len(AvgAge))"
   ]
  }
 ],
 "metadata": {
  "kernelspec": {
   "display_name": "Python 3.8.10 64-bit",
   "language": "python",
   "name": "python3"
  },
  "language_info": {
   "codemirror_mode": {
    "name": "ipython",
    "version": 3
   },
   "file_extension": ".py",
   "mimetype": "text/x-python",
   "name": "python",
   "nbconvert_exporter": "python",
   "pygments_lexer": "ipython3",
   "version": "3.8.10"
  },
  "orig_nbformat": 4,
  "vscode": {
   "interpreter": {
    "hash": "916dbcbb3f70747c44a77c7bcd40155683ae19c65e1c03b4aa3499c5328201f1"
   }
  }
 },
 "nbformat": 4,
 "nbformat_minor": 2
}
