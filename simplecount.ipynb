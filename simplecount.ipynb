{
 "cells": [
  {
   "cell_type": "code",
   "execution_count": 8,
   "metadata": {},
   "outputs": [],
   "source": [
    "import csv\n",
    "filename = open('/home/chityanj/wayup/titanic.csv')\n",
    "file = csv.DictReader(filename)\n",
    "\n",
    "\n"
   ]
  },
  {
   "cell_type": "code",
   "execution_count": 9,
   "metadata": {},
   "outputs": [
    {
     "name": "stdout",
     "output_type": "stream",
     "text": [
      "The number of Empty Columns is 866\n"
     ]
    }
   ],
   "source": [
    "count = 0\n",
    "for row in file:\n",
    "    if row['Cabin'] == '':\n",
    "        count += 1\n",
    "    if row['PassengerId'] == '':\n",
    "        count += 1\n",
    "    if row['Survived'] == '':\n",
    "        count += 1\n",
    "    if row['Pclass'] == '':\n",
    "        count += 1\n",
    "    if row['Name'] == '':\n",
    "        count += 1\n",
    "    if row['Age'] == '':\n",
    "        count += 1\n",
    "    if row['Fare'] == '':\n",
    "        count += 1\n",
    "    if row['SibSp'] == '':\n",
    "        count += 1\n",
    "    if row['Sex'] == '':\n",
    "        count += 1\n",
    "    if row['Parch'] == '':\n",
    "        count += 1\n",
    "    if row['Ticket'] == '':\n",
    "        count += 1\n",
    "    if row['Embarked'] == '':\n",
    "        count += 1\n",
    "print(f'The number of Empty Columns is {count}')"
   ]
  },
  {
   "cell_type": "markdown",
   "metadata": {},
   "source": [
    "Simple Logic I am checking for the empty string and increasing the count if it is found"
   ]
  }
 ],
 "metadata": {
  "kernelspec": {
   "display_name": "Python 3.8.10 64-bit",
   "language": "python",
   "name": "python3"
  },
  "language_info": {
   "codemirror_mode": {
    "name": "ipython",
    "version": 3
   },
   "file_extension": ".py",
   "mimetype": "text/x-python",
   "name": "python",
   "nbconvert_exporter": "python",
   "pygments_lexer": "ipython3",
   "version": "3.8.10"
  },
  "orig_nbformat": 4,
  "vscode": {
   "interpreter": {
    "hash": "916dbcbb3f70747c44a77c7bcd40155683ae19c65e1c03b4aa3499c5328201f1"
   }
  }
 },
 "nbformat": 4,
 "nbformat_minor": 2
}
