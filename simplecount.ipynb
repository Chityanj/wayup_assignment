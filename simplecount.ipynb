{
 "cells": [
  {
   "cell_type": "code",
   "execution_count": 24,
   "metadata": {},
   "outputs": [],
   "source": [
    "import csv\n",
    "filename = open('/home/chityanj/wayup/titanic.csv')\n",
    "file = csv.DictReader(filename)\n",
    "\n",
    "\n"
   ]
  },
  {
   "cell_type": "code",
   "execution_count": 25,
   "metadata": {},
   "outputs": [],
   "source": [
    "Cabin = []\n",
    "PassengerId = []\n",
    "Survived = []\n",
    "Pclass = []\n",
    "Name = []\n",
    "Sex = []\n",
    "Age = []\t\n",
    "SibSp = []\t\n",
    "Parch = []\t\n",
    "Ticket = []\t\n",
    "Fare = []\t\n",
    "Embarked = []\n",
    "for row in file:\n",
    "    Cabin.append(row['Cabin'])\n",
    "    PassengerId.append(row['PassengerId'])\n",
    "    Survived.append(row['Survived'])\n",
    "    Pclass.append(row['Pclass'])\n",
    "    Name.append(row['Name'])\n",
    "    Age.append(row['Age'])\n",
    "    Fare.append(row['Fare'])\n",
    "    SibSp.append(row['SibSp'])\n",
    "    Sex.append(row['Sex'])\n",
    "    Parch.append(row['Parch'])\n",
    "    Ticket.append(row['Ticket'])\n",
    "    Embarked.append(row['Embarked'])\n"
   ]
  },
  {
   "cell_type": "markdown",
   "metadata": {},
   "source": [
    "Simple Logic I am checking for the empty string and increasing the count if it is found"
   ]
  },
  {
   "cell_type": "code",
   "execution_count": 26,
   "metadata": {},
   "outputs": [
    {
     "name": "stdout",
     "output_type": "stream",
     "text": [
      "The number of Empty Columns is 866\n"
     ]
    }
   ],
   "source": [
    "count = 0\n",
    "for i in Cabin:\n",
    "    if i == '':\n",
    "        count += 1\n",
    "for j in Age:\n",
    "    if j == '':\n",
    "        count += 1\n",
    "for k in Embarked:\n",
    "    if k == '':\n",
    "        count += 1\n",
    "\n",
    "print(f'The number of Empty Columns is {count}')"
   ]
  }
 ],
 "metadata": {
  "kernelspec": {
   "display_name": "Python 3.8.10 64-bit",
   "language": "python",
   "name": "python3"
  },
  "language_info": {
   "codemirror_mode": {
    "name": "ipython",
    "version": 3
   },
   "file_extension": ".py",
   "mimetype": "text/x-python",
   "name": "python",
   "nbconvert_exporter": "python",
   "pygments_lexer": "ipython3",
   "version": "3.8.10"
  },
  "orig_nbformat": 4,
  "vscode": {
   "interpreter": {
    "hash": "916dbcbb3f70747c44a77c7bcd40155683ae19c65e1c03b4aa3499c5328201f1"
   }
  }
 },
 "nbformat": 4,
 "nbformat_minor": 2
}
